{
  "nbformat": 4,
  "nbformat_minor": 0,
  "metadata": {
    "colab": {
      "provenance": [],
      "authorship_tag": "ABX9TyPpL5C0VBW3WlcKeOPu8LQ3",
      "include_colab_link": true
    },
    "kernelspec": {
      "name": "python3",
      "display_name": "Python 3"
    },
    "language_info": {
      "name": "python"
    }
  },
  "cells": [
    {
      "cell_type": "markdown",
      "metadata": {
        "id": "view-in-github",
        "colab_type": "text"
      },
      "source": [
        "<a href=\"https://colab.research.google.com/github/SAHAJCHAUDHARY45/Python/blob/main/mean.ipynb\" target=\"_parent\"><img src=\"https://colab.research.google.com/assets/colab-badge.svg\" alt=\"Open In Colab\"/></a>"
      ]
    },
    {
      "cell_type": "code",
      "execution_count": null,
      "metadata": {
        "id": "0n8nyH7CIzHP"
      },
      "outputs": [],
      "source": [
        "# prompt: 12 23 13 43 22 11 88 77 67 35\n",
        "\n",
        "import numpy as np\n",
        "\n",
        "# Input numbers (replace with your actual data)\n",
        "numbers = [12, 23, 13, 43, 22, 11, 88, 77, 67, 35]\n",
        "\n",
        "# Convert the list to a NumPy array\n",
        "numbers_array = np.array(numbers)\n",
        "\n",
        "\n",
        "# Calculate the mean\n",
        "mean = np.mean(numbers_array)\n",
        "\n",
        "# Calculate the standard deviation\n",
        "std_dev = np.std(numbers_array)\n",
        "\n",
        "\n",
        "# Print results\n",
        "print(\"Mean:\", mean)\n",
        "print(\"Standard deviation:\", std_dev)"
      ]
    }
  ]
}